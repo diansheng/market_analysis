{
 "cells": [
  {
   "cell_type": "markdown",
   "metadata": {},
   "source": [
    "Convert data to csv files."
   ]
  },
  {
   "cell_type": "code",
   "execution_count": 9,
   "metadata": {
    "collapsed": false
   },
   "outputs": [],
   "source": [
    "import MySQLdb\n",
    "import csv\n",
    "\n",
    "db = MySQLdb.connect(\n",
    "    host=\"dbinstance.clzhskzu7mhy.ap-southeast-1.rds.amazonaws.com\", \n",
    "    user=\"fremont\", \n",
    "    passwd=\"password\", \n",
    "    db=\"fremont_db\"\n",
    ")\n",
    "cursor = db.cursor()\n",
    "sql = \"\"\"\n",
    "select * from auctionhall \n",
    "where timeStamp>='2015-09-27' and timeStamp <='2015-10-22'\n",
    "group by auc;\n",
    "\"\"\"\n",
    "cursor.execute(sql)\n",
    "rows = cursor.fetchall()\n",
    "fp = open('period_data.csv', 'w')\n",
    "myFile = csv.writer(fp)\n",
    "myFile.writerows(rows)\n",
    "fp.close()\n",
    "db.close()"
   ]
  },
  {
   "cell_type": "code",
   "execution_count": 10,
   "metadata": {
    "collapsed": true
   },
   "outputs": [],
   "source": [
    "import pandas as pd\n",
    "headers=('auction_id','item_id','bid','buyout','quantity','datetime')\n",
    "df=pd.read_csv('period_data.csv', index_col=5, parse_dates=True, names=headers)"
   ]
  },
  {
   "cell_type": "code",
   "execution_count": 11,
   "metadata": {
    "collapsed": false
   },
   "outputs": [
    {
     "data": {
      "text/html": [
       "<div>\n",
       "<table border=\"1\" class=\"dataframe\">\n",
       "  <thead>\n",
       "    <tr style=\"text-align: right;\">\n",
       "      <th></th>\n",
       "      <th>auction_id</th>\n",
       "      <th>item_id</th>\n",
       "      <th>bid</th>\n",
       "      <th>buyout</th>\n",
       "      <th>quantity</th>\n",
       "    </tr>\n",
       "    <tr>\n",
       "      <th>datetime</th>\n",
       "      <th></th>\n",
       "      <th></th>\n",
       "      <th></th>\n",
       "      <th></th>\n",
       "      <th></th>\n",
       "    </tr>\n",
       "  </thead>\n",
       "  <tbody>\n",
       "    <tr>\n",
       "      <th>2015-09-27 00:01:14</th>\n",
       "      <td>1468472671</td>\n",
       "      <td>17193</td>\n",
       "      <td>4499993140</td>\n",
       "      <td>4500000000</td>\n",
       "      <td>1</td>\n",
       "    </tr>\n",
       "    <tr>\n",
       "      <th>2015-09-27 00:01:14</th>\n",
       "      <td>1468472719</td>\n",
       "      <td>109219</td>\n",
       "      <td>1745980</td>\n",
       "      <td>1939980</td>\n",
       "      <td>20</td>\n",
       "    </tr>\n",
       "    <tr>\n",
       "      <th>2015-09-27 00:01:14</th>\n",
       "      <td>1468472720</td>\n",
       "      <td>109219</td>\n",
       "      <td>1745980</td>\n",
       "      <td>1939980</td>\n",
       "      <td>20</td>\n",
       "    </tr>\n",
       "    <tr>\n",
       "      <th>2015-09-27 00:01:14</th>\n",
       "      <td>1468472721</td>\n",
       "      <td>109219</td>\n",
       "      <td>1745980</td>\n",
       "      <td>1939980</td>\n",
       "      <td>20</td>\n",
       "    </tr>\n",
       "    <tr>\n",
       "      <th>2015-09-27 00:01:14</th>\n",
       "      <td>1468472723</td>\n",
       "      <td>109219</td>\n",
       "      <td>1745980</td>\n",
       "      <td>1939980</td>\n",
       "      <td>20</td>\n",
       "    </tr>\n",
       "  </tbody>\n",
       "</table>\n",
       "</div>"
      ],
      "text/plain": [
       "                     auction_id  item_id         bid      buyout  quantity\n",
       "datetime                                                                  \n",
       "2015-09-27 00:01:14  1468472671    17193  4499993140  4500000000         1\n",
       "2015-09-27 00:01:14  1468472719   109219     1745980     1939980        20\n",
       "2015-09-27 00:01:14  1468472720   109219     1745980     1939980        20\n",
       "2015-09-27 00:01:14  1468472721   109219     1745980     1939980        20\n",
       "2015-09-27 00:01:14  1468472723   109219     1745980     1939980        20"
      ]
     },
     "execution_count": 11,
     "metadata": {},
     "output_type": "execute_result"
    }
   ],
   "source": [
    "df.head()"
   ]
  },
  {
   "cell_type": "code",
   "execution_count": 12,
   "metadata": {
    "collapsed": true
   },
   "outputs": [],
   "source": [
    "g1 = df.groupby( ['item_id'] ).count()"
   ]
  },
  {
   "cell_type": "code",
   "execution_count": 13,
   "metadata": {
    "collapsed": false
   },
   "outputs": [
    {
     "data": {
      "text/html": [
       "<div>\n",
       "<table border=\"1\" class=\"dataframe\">\n",
       "  <thead>\n",
       "    <tr style=\"text-align: right;\">\n",
       "      <th></th>\n",
       "      <th>auction_id</th>\n",
       "      <th>bid</th>\n",
       "      <th>buyout</th>\n",
       "      <th>quantity</th>\n",
       "    </tr>\n",
       "    <tr>\n",
       "      <th>item_id</th>\n",
       "      <th></th>\n",
       "      <th></th>\n",
       "      <th></th>\n",
       "      <th></th>\n",
       "    </tr>\n",
       "  </thead>\n",
       "  <tbody>\n",
       "    <tr>\n",
       "      <th>647</th>\n",
       "      <td>11</td>\n",
       "      <td>11</td>\n",
       "      <td>11</td>\n",
       "      <td>11</td>\n",
       "    </tr>\n",
       "    <tr>\n",
       "      <th>727</th>\n",
       "      <td>4</td>\n",
       "      <td>4</td>\n",
       "      <td>4</td>\n",
       "      <td>4</td>\n",
       "    </tr>\n",
       "    <tr>\n",
       "      <th>754</th>\n",
       "      <td>3</td>\n",
       "      <td>3</td>\n",
       "      <td>3</td>\n",
       "      <td>3</td>\n",
       "    </tr>\n",
       "    <tr>\n",
       "      <th>765</th>\n",
       "      <td>15</td>\n",
       "      <td>15</td>\n",
       "      <td>15</td>\n",
       "      <td>15</td>\n",
       "    </tr>\n",
       "    <tr>\n",
       "      <th>769</th>\n",
       "      <td>1</td>\n",
       "      <td>1</td>\n",
       "      <td>1</td>\n",
       "      <td>1</td>\n",
       "    </tr>\n",
       "  </tbody>\n",
       "</table>\n",
       "</div>"
      ],
      "text/plain": [
       "         auction_id  bid  buyout  quantity\n",
       "item_id                                   \n",
       "647              11   11      11        11\n",
       "727               4    4       4         4\n",
       "754               3    3       3         3\n",
       "765              15   15      15        15\n",
       "769               1    1       1         1"
      ]
     },
     "execution_count": 13,
     "metadata": {},
     "output_type": "execute_result"
    }
   ],
   "source": [
    "g1.head()"
   ]
  },
  {
   "cell_type": "code",
   "execution_count": null,
   "metadata": {
    "collapsed": true
   },
   "outputs": [],
   "source": []
  }
 ],
 "metadata": {
  "kernelspec": {
   "display_name": "Python 2",
   "language": "python",
   "name": "python2"
  },
  "language_info": {
   "codemirror_mode": {
    "name": "ipython",
    "version": 2
   },
   "file_extension": ".py",
   "mimetype": "text/x-python",
   "name": "python",
   "nbconvert_exporter": "python",
   "pygments_lexer": "ipython2",
   "version": "2.7.9"
  }
 },
 "nbformat": 4,
 "nbformat_minor": 0
}
